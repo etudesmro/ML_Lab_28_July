{
 "cells": [
  {
   "cell_type": "code",
   "execution_count": 1,
   "id": "invisible-jackson",
   "metadata": {},
   "outputs": [],
   "source": [
    "import pandas as pd\n",
    "import numpy as np\n",
    "import os\n",
    "import glob"
   ]
  },
  {
   "cell_type": "code",
   "execution_count": 2,
   "id": "controlling-emerald",
   "metadata": {},
   "outputs": [],
   "source": [
    "import tools_files as tools"
   ]
  },
  {
   "cell_type": "code",
   "execution_count": 3,
   "id": "genetic-mountain",
   "metadata": {},
   "outputs": [
    {
     "data": {
      "text/plain": [
       "['iris.data']"
      ]
     },
     "execution_count": 3,
     "metadata": {},
     "output_type": "execute_result"
    }
   ],
   "source": [
    "tools.list_file_with_extension_cur_glob('.data')"
   ]
  },
  {
   "cell_type": "code",
   "execution_count": 4,
   "id": "prepared-sandwich",
   "metadata": {},
   "outputs": [
    {
     "data": {
      "text/plain": [
       "[]"
      ]
     },
     "execution_count": 4,
     "metadata": {},
     "output_type": "execute_result"
    }
   ],
   "source": [
    "tools.list_file_with_extension_cur_glob('.txt')"
   ]
  },
  {
   "cell_type": "code",
   "execution_count": 7,
   "id": "fitted-warren",
   "metadata": {},
   "outputs": [
    {
     "name": "stdout",
     "output_type": "stream",
     "text": [
      "Help on function list_file_with_extension_cur_glob in module tools_files:\n",
      "\n",
      "list_file_with_extension_cur_glob(extension)\n",
      "    The function filter the files presents in local directory filtered by extension,\n",
      "    there is a list of allowed extensions : ['pdf','csv','data','txt']\n",
      "    \n",
      "    Parameters:\n",
      "        extension (str): extension to filter on\n",
      "    \n",
      "    Returns:\n",
      "        list of files having this extension\n",
      "\n"
     ]
    }
   ],
   "source": [
    "help(tools.list_file_with_extension_cur_glob)"
   ]
  },
  {
   "cell_type": "code",
   "execution_count": 8,
   "id": "flush-narrow",
   "metadata": {},
   "outputs": [
    {
     "name": "stdout",
     "output_type": "stream",
     "text": [
      "Help on function clean_extension in module tools_files:\n",
      "\n",
      "clean_extension(extension)\n",
      "    this function clean parameter extension of trailing spaces or .\n",
      "    returns a clean extention\n",
      "\n"
     ]
    }
   ],
   "source": [
    "help(tools.clean_extension)"
   ]
  },
  {
   "cell_type": "code",
   "execution_count": null,
   "id": "comfortable-alexander",
   "metadata": {},
   "outputs": [],
   "source": [
    "# "
   ]
  }
 ],
 "metadata": {
  "kernelspec": {
   "display_name": "Python 3",
   "language": "python",
   "name": "python3"
  },
  "language_info": {
   "codemirror_mode": {
    "name": "ipython",
    "version": 3
   },
   "file_extension": ".py",
   "mimetype": "text/x-python",
   "name": "python",
   "nbconvert_exporter": "python",
   "pygments_lexer": "ipython3",
   "version": "3.8.8"
  }
 },
 "nbformat": 4,
 "nbformat_minor": 5
}
